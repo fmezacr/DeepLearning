{
 "cells": [
  {
   "cell_type": "markdown",
   "metadata": {
    "collapsed": true,
    "deletable": true,
    "editable": true
   },
   "source": [
    "# Language Translation\n",
    "In this project, you’re going to take a peek into the realm of neural network machine translation.  You’ll be training a sequence to sequence model on a dataset of English and French sentences that can translate new sentences from English to French.\n",
    "## Get the Data\n",
    "Since translating the whole language of English to French will take lots of time to train, we have provided you with a small portion of the English corpus."
   ]
  },
  {
   "cell_type": "code",
   "execution_count": 1,
   "metadata": {
    "collapsed": true,
    "deletable": true,
    "editable": true
   },
   "outputs": [],
   "source": [
    "\"\"\"\n",
    "DON'T MODIFY ANYTHING IN THIS CELL\n",
    "\"\"\"\n",
    "import helper\n",
    "import problem_unittests as tests\n",
    "\n",
    "source_path = 'data/small_vocab_en'\n",
    "target_path = 'data/small_vocab_fr'\n",
    "source_text = helper.load_data(source_path)\n",
    "target_text = helper.load_data(target_path)"
   ]
  },
  {
   "cell_type": "markdown",
   "metadata": {
    "deletable": true,
    "editable": true
   },
   "source": [
    "## Explore the Data\n",
    "Play around with view_sentence_range to view different parts of the data."
   ]
  },
  {
   "cell_type": "code",
   "execution_count": 2,
   "metadata": {
    "collapsed": false,
    "deletable": true,
    "editable": true
   },
   "outputs": [
    {
     "name": "stdout",
     "output_type": "stream",
     "text": [
      "Dataset Stats\n",
      "Roughly the number of unique words: 227\n",
      "Number of sentences: 137861\n",
      "Average number of words in a sentence: 13.225277634719028\n",
      "\n",
      "English sentences 90 to 100:\n",
      "california is never busy during february , and it is usually hot in june .\n",
      "the united states is sometimes beautiful during november , and it is never rainy in march .\n",
      "new jersey is sometimes hot during march , and it is beautiful in fall .\n",
      "the grapefruit is our least favorite fruit , but the orange is your least favorite .\n",
      "i like grapefruit , limes , and pears .\n",
      "she dislikes lemons , strawberries , and grapes .\n",
      "paris is usually chilly during fall , but it is sometimes rainy in july .\n",
      "she likes mangoes , apples , and bananas .\n",
      "she is driving the old yellow truck .\n",
      "we like peaches , mangoes , and oranges .\n",
      "\n",
      "French sentences 90 to 100:\n",
      "california est jamais occupé en février , et il est généralement chaud en juin .\n",
      "les états-unis est parfois belle au mois de novembre , et il est jamais pluvieux en mars .\n",
      "new jersey est parfois chaud en mars , et il est beau à l' automne .\n",
      "le pamplemousse est notre fruit préféré moins , mais l'orange est votre préféré moins .\n",
      "i comme le pamplemousse , citrons verts , et les poires .\n",
      "elle déteste les citrons , les fraises et les raisins .\n",
      "paris est généralement froid à l'automne , mais il est parfois pluvieux en juillet .\n",
      "elle aime les mangues , les pommes et les bananes .\n",
      "elle conduit le vieux camion jaune .\n",
      "nous aimons les pêches , les mangues et les oranges .\n"
     ]
    }
   ],
   "source": [
    "view_sentence_range = (90, 100)\n",
    "\n",
    "\"\"\"\n",
    "DON'T MODIFY ANYTHING IN THIS CELL\n",
    "\"\"\"\n",
    "import numpy as np\n",
    "\n",
    "print('Dataset Stats')\n",
    "print('Roughly the number of unique words: {}'.format(len({word: None for word in source_text.split()})))\n",
    "\n",
    "sentences = source_text.split('\\n')\n",
    "word_counts = [len(sentence.split()) for sentence in sentences]\n",
    "print('Number of sentences: {}'.format(len(sentences)))\n",
    "print('Average number of words in a sentence: {}'.format(np.average(word_counts)))\n",
    "\n",
    "print()\n",
    "print('English sentences {} to {}:'.format(*view_sentence_range))\n",
    "print('\\n'.join(source_text.split('\\n')[view_sentence_range[0]:view_sentence_range[1]]))\n",
    "print()\n",
    "print('French sentences {} to {}:'.format(*view_sentence_range))\n",
    "print('\\n'.join(target_text.split('\\n')[view_sentence_range[0]:view_sentence_range[1]]))"
   ]
  },
  {
   "cell_type": "markdown",
   "metadata": {
    "deletable": true,
    "editable": true
   },
   "source": [
    "## Implement Preprocessing Function\n",
    "### Text to Word Ids\n",
    "As you did with other RNNs, you must turn the text into a number so the computer can understand it. In the function `text_to_ids()`, you'll turn `source_text` and `target_text` from words to ids.  However, you need to add the `<EOS>` word id at the end of `target_text`.  This will help the neural network predict when the sentence should end.\n",
    "\n",
    "You can get the `<EOS>` word id by doing:\n",
    "```python\n",
    "target_vocab_to_int['<EOS>']\n",
    "```\n",
    "You can get other word ids using `source_vocab_to_int` and `target_vocab_to_int`."
   ]
  },
  {
   "cell_type": "code",
   "execution_count": 3,
   "metadata": {
    "collapsed": false,
    "deletable": true,
    "editable": true
   },
   "outputs": [
    {
     "name": "stdout",
     "output_type": "stream",
     "text": [
      "Tests Passed\n"
     ]
    }
   ],
   "source": [
    "def text_to_ids(source_text, target_text, source_vocab_to_int, target_vocab_to_int):\n",
    "    \"\"\"\n",
    "    Convert source and target text to proper word ids\n",
    "    :param source_text: String that contains all the source text.\n",
    "    :param target_text: String that contains all the target text.\n",
    "    :param source_vocab_to_int: Dictionary to go from the source words to an id\n",
    "    :param target_vocab_to_int: Dictionary to go from the target words to an id\n",
    "    :return: A tuple of lists (source_id_text, target_id_text)\n",
    "    \"\"\"\n",
    "    # TODO: Implement Function\n",
    "    \n",
    "    source_text = source_text.split(\"\\n\")\n",
    "    source_id_text = []\n",
    "    for sentence in source_text:\n",
    "        new_sentence = []\n",
    "        for word in sentence.split():\n",
    "            new_sentence.append(source_vocab_to_int[word])\n",
    "        source_id_text.append(new_sentence)\n",
    "    \n",
    "    target_text = target_text.split(\"\\n\")\n",
    "    target_id_text = []\n",
    "    for sentence in target_text:\n",
    "        sentence = sentence + \" <EOS>\"\n",
    "        new_sentence = []\n",
    "        for word in sentence.split():\n",
    "            new_sentence.append(target_vocab_to_int[word])\n",
    "        target_id_text.append(new_sentence)\n",
    "    \n",
    "    return (source_id_text, target_id_text)\n",
    "\n",
    "\"\"\"\n",
    "DON'T MODIFY ANYTHING IN THIS CELL THAT IS BELOW THIS LINE\n",
    "\"\"\"\n",
    "tests.test_text_to_ids(text_to_ids)"
   ]
  },
  {
   "cell_type": "markdown",
   "metadata": {
    "deletable": true,
    "editable": true
   },
   "source": [
    "### Preprocess all the data and save it\n",
    "Running the code cell below will preprocess all the data and save it to file."
   ]
  },
  {
   "cell_type": "code",
   "execution_count": 4,
   "metadata": {
    "collapsed": false,
    "deletable": true,
    "editable": true
   },
   "outputs": [],
   "source": [
    "\"\"\"\n",
    "DON'T MODIFY ANYTHING IN THIS CELL\n",
    "\"\"\"\n",
    "helper.preprocess_and_save_data(source_path, target_path, text_to_ids)"
   ]
  },
  {
   "cell_type": "markdown",
   "metadata": {
    "deletable": true,
    "editable": true
   },
   "source": [
    "# Check Point\n",
    "This is your first checkpoint. If you ever decide to come back to this notebook or have to restart the notebook, you can start from here. The preprocessed data has been saved to disk."
   ]
  },
  {
   "cell_type": "code",
   "execution_count": 5,
   "metadata": {
    "collapsed": true,
    "deletable": true,
    "editable": true
   },
   "outputs": [],
   "source": [
    "\"\"\"\n",
    "DON'T MODIFY ANYTHING IN THIS CELL\n",
    "\"\"\"\n",
    "import numpy as np\n",
    "import helper\n",
    "\n",
    "(source_int_text, target_int_text), (source_vocab_to_int, target_vocab_to_int), _ = helper.load_preprocess()"
   ]
  },
  {
   "cell_type": "markdown",
   "metadata": {
    "deletable": true,
    "editable": true
   },
   "source": [
    "### Check the Version of TensorFlow and Access to GPU\n",
    "This will check to make sure you have the correct version of TensorFlow and access to a GPU"
   ]
  },
  {
   "cell_type": "code",
   "execution_count": 6,
   "metadata": {
    "collapsed": false,
    "deletable": true,
    "editable": true
   },
   "outputs": [
    {
     "name": "stdout",
     "output_type": "stream",
     "text": [
      "TensorFlow Version: 1.1.0\n",
      "Default GPU Device: /gpu:0\n"
     ]
    }
   ],
   "source": [
    "\"\"\"\n",
    "DON'T MODIFY ANYTHING IN THIS CELL\n",
    "\"\"\"\n",
    "from distutils.version import LooseVersion\n",
    "import warnings\n",
    "import tensorflow as tf\n",
    "from tensorflow.python.layers.core import Dense\n",
    "\n",
    "# Check TensorFlow Version\n",
    "assert LooseVersion(tf.__version__) >= LooseVersion('1.1'), 'Please use TensorFlow version 1.1 or newer'\n",
    "print('TensorFlow Version: {}'.format(tf.__version__))\n",
    "\n",
    "# Check for a GPU\n",
    "if not tf.test.gpu_device_name():\n",
    "    warnings.warn('No GPU found. Please use a GPU to train your neural network.')\n",
    "else:\n",
    "    print('Default GPU Device: {}'.format(tf.test.gpu_device_name()))"
   ]
  },
  {
   "cell_type": "markdown",
   "metadata": {
    "deletable": true,
    "editable": true
   },
   "source": [
    "## Build the Neural Network\n",
    "You'll build the components necessary to build a Sequence-to-Sequence model by implementing the following functions below:\n",
    "- `model_inputs`\n",
    "- `process_decoder_input`\n",
    "- `encoding_layer`\n",
    "- `decoding_layer_train`\n",
    "- `decoding_layer_infer`\n",
    "- `decoding_layer`\n",
    "- `seq2seq_model`\n",
    "\n",
    "### Input\n",
    "Implement the `model_inputs()` function to create TF Placeholders for the Neural Network. It should create the following placeholders:\n",
    "\n",
    "- Input text placeholder named \"input\" using the TF Placeholder name parameter with rank 2.\n",
    "- Targets placeholder with rank 2.\n",
    "- Learning rate placeholder with rank 0.\n",
    "- Keep probability placeholder named \"keep_prob\" using the TF Placeholder name parameter with rank 0.\n",
    "- Target sequence length placeholder named \"target_sequence_length\" with rank 1\n",
    "- Max target sequence length tensor named \"max_target_len\" getting its value from applying tf.reduce_max on the target_sequence_length placeholder. Rank 0.\n",
    "- Source sequence length placeholder named \"source_sequence_length\" with rank 1\n",
    "\n",
    "Return the placeholders in the following the tuple (input, targets, learning rate, keep probability, target sequence length, max target sequence length, source sequence length)"
   ]
  },
  {
   "cell_type": "code",
   "execution_count": 7,
   "metadata": {
    "collapsed": false,
    "deletable": true,
    "editable": true
   },
   "outputs": [
    {
     "name": "stdout",
     "output_type": "stream",
     "text": [
      "Tests Passed\n"
     ]
    }
   ],
   "source": [
    "def model_inputs():\n",
    "    \"\"\"\n",
    "    Create TF Placeholders for input, targets, learning rate, and lengths of source and target sequences.\n",
    "    :return: Tuple (input, targets, learning rate, keep probability, target sequence length,\n",
    "    max target sequence length, source sequence length)\n",
    "    \"\"\"\n",
    "    # TODO: Implement Function\n",
    "    \n",
    "    inputs = tf.placeholder(tf.int32, [None, None], name='input')\n",
    "    targets = tf.placeholder(tf.int32, [None, None], name='target')\n",
    "    learning_rate = tf.placeholder(tf.float32, name=\"learning_rate\")\n",
    "    keep_probability = tf.placeholder(tf.float32, name=\"keep_prob\")\n",
    "    target_sequence_length = tf.placeholder(tf.int32, [None], name=\"target_sequence_length\")\n",
    "    max_target_sequence_length =  tf.reduce_max(target_sequence_length, name=\"max_target_len\")\n",
    "    source_sequence_length = tf.placeholder(tf.int32, [None], name=\"source_sequence_length\")\n",
    "    \n",
    "    return (inputs, targets, learning_rate, keep_probability, target_sequence_length,\n",
    "    max_target_sequence_length, source_sequence_length)\n",
    "\n",
    "\n",
    "\"\"\"\n",
    "DON'T MODIFY ANYTHING IN THIS CELL THAT IS BELOW THIS LINE\n",
    "\"\"\"\n",
    "tests.test_model_inputs(model_inputs)"
   ]
  },
  {
   "cell_type": "markdown",
   "metadata": {
    "deletable": true,
    "editable": true
   },
   "source": [
    "### Process Decoder Input\n",
    "Implement `process_decoder_input` by removing the last word id from each batch in `target_data` and concat the GO ID to the begining of each batch."
   ]
  },
  {
   "cell_type": "code",
   "execution_count": 8,
   "metadata": {
    "collapsed": false,
    "deletable": true,
    "editable": true
   },
   "outputs": [
    {
     "name": "stdout",
     "output_type": "stream",
     "text": [
      "Tests Passed\n"
     ]
    }
   ],
   "source": [
    "def process_decoder_input(target_data, target_vocab_to_int, batch_size):\n",
    "    \"\"\"\n",
    "    Preprocess target data for encoding\n",
    "    :param target_data: Target Placehoder\n",
    "    :param target_vocab_to_int: Dictionary to go from the target words to an id\n",
    "    :param batch_size: Batch Size\n",
    "    :return: Preprocessed target data\n",
    "    \"\"\"\n",
    "    # TODO: Implement Function\n",
    "    #go = source_vocab_to_int['<GO>']\n",
    "    go = target_vocab_to_int['<GO>']\n",
    "    ending = tf.strided_slice(target_data, [0, 0], [batch_size, -1], [1, 1])\n",
    "    decoded = tf.concat([tf.fill([batch_size, 1], go), ending], 1)\n",
    "    return decoded\n",
    "\n",
    "\"\"\"\n",
    "DON'T MODIFY ANYTHING IN THIS CELL THAT IS BELOW THIS LINE\n",
    "\"\"\"\n",
    "tests.test_process_encoding_input(process_decoder_input)"
   ]
  },
  {
   "cell_type": "markdown",
   "metadata": {
    "deletable": true,
    "editable": true
   },
   "source": [
    "### Encoding\n",
    "Implement `encoding_layer()` to create a Encoder RNN layer:\n",
    " * Embed the encoder input using [`tf.contrib.layers.embed_sequence`](https://www.tensorflow.org/api_docs/python/tf/contrib/layers/embed_sequence)\n",
    " * Construct a [stacked](https://github.com/tensorflow/tensorflow/blob/6947f65a374ebf29e74bb71e36fd82760056d82c/tensorflow/docs_src/tutorials/recurrent.md#stacking-multiple-lstms) [`tf.contrib.rnn.LSTMCell`](https://www.tensorflow.org/api_docs/python/tf/contrib/rnn/LSTMCell) wrapped in a [`tf.contrib.rnn.DropoutWrapper`](https://www.tensorflow.org/api_docs/python/tf/contrib/rnn/DropoutWrapper)\n",
    " * Pass cell and embedded input to [`tf.nn.dynamic_rnn()`](https://www.tensorflow.org/api_docs/python/tf/nn/dynamic_rnn)"
   ]
  },
  {
   "cell_type": "code",
   "execution_count": 9,
   "metadata": {
    "collapsed": false,
    "deletable": true,
    "editable": true,
    "scrolled": false
   },
   "outputs": [
    {
     "name": "stdout",
     "output_type": "stream",
     "text": [
      "Tests Passed\n"
     ]
    }
   ],
   "source": [
    "from imp import reload\n",
    "reload(tests)\n",
    "\n",
    "def encoding_layer(rnn_inputs, rnn_size, num_layers, keep_prob, \n",
    "                   source_sequence_length, source_vocab_size, \n",
    "                   encoding_embedding_size):\n",
    "    \"\"\"\n",
    "    Create encoding layer\n",
    "    :param rnn_inputs: Inputs for the RNN\n",
    "    :param rnn_size: RNN Size\n",
    "    :param num_layers: Number of layers\n",
    "    :param keep_prob: Dropout keep probability\n",
    "    :param source_sequence_length: a list of the lengths of each sequence in the batch\n",
    "    :param source_vocab_size: vocabulary size of source data\n",
    "    :param encoding_embedding_size: embedding size of source data\n",
    "    :return: tuple (RNN output, RNN state)\n",
    "    \"\"\"\n",
    "    # TODO: Implement Function\n",
    "    \n",
    "    # Encoder embedding\n",
    "    enc_embed_input = tf.contrib.layers.embed_sequence(rnn_inputs, source_vocab_size, encoding_embedding_size)\n",
    "\n",
    "    # RNN cell\n",
    "    def make_cell(rnn_size,keep_prob):\n",
    "        enc_cell = tf.contrib.rnn.LSTMCell(rnn_size, initializer=tf.random_uniform_initializer(-0.1, 0.1, seed=2))\n",
    "        drop = tf.contrib.rnn.DropoutWrapper(enc_cell,output_keep_prob=keep_prob)\n",
    "        return drop\n",
    "\n",
    "    enc_cell = tf.contrib.rnn.MultiRNNCell([make_cell(rnn_size,keep_prob) for _ in range(num_layers)])\n",
    "    \n",
    "    enc_output, enc_state = tf.nn.dynamic_rnn(enc_cell, enc_embed_input, sequence_length=source_sequence_length, dtype=tf.float32)\n",
    "    \n",
    "    return enc_output, enc_state\n",
    "\n",
    "\"\"\"\n",
    "DON'T MODIFY ANYTHING IN THIS CELL THAT IS BELOW THIS LINE\n",
    "\"\"\"\n",
    "tests.test_encoding_layer(encoding_layer)"
   ]
  },
  {
   "cell_type": "markdown",
   "metadata": {
    "deletable": true,
    "editable": true
   },
   "source": [
    "### Decoding - Training\n",
    "Create a training decoding layer:\n",
    "* Create a [`tf.contrib.seq2seq.TrainingHelper`](https://www.tensorflow.org/api_docs/python/tf/contrib/seq2seq/TrainingHelper) \n",
    "* Create a [`tf.contrib.seq2seq.BasicDecoder`](https://www.tensorflow.org/api_docs/python/tf/contrib/seq2seq/BasicDecoder)\n",
    "* Obtain the decoder outputs from [`tf.contrib.seq2seq.dynamic_decode`](https://www.tensorflow.org/api_docs/python/tf/contrib/seq2seq/dynamic_decode)"
   ]
  },
  {
   "cell_type": "code",
   "execution_count": 10,
   "metadata": {
    "collapsed": false,
    "deletable": true,
    "editable": true
   },
   "outputs": [
    {
     "name": "stdout",
     "output_type": "stream",
     "text": [
      "Tests Passed\n"
     ]
    }
   ],
   "source": [
    "\n",
    "def decoding_layer_train(encoder_state, dec_cell, dec_embed_input, \n",
    "                         target_sequence_length, max_summary_length, \n",
    "                         output_layer, keep_prob):\n",
    "    \"\"\"\n",
    "    Create a decoding layer for training\n",
    "    :param encoder_state: Encoder State\n",
    "    :param dec_cell: Decoder RNN Cell\n",
    "    :param dec_embed_input: Decoder embedded input\n",
    "    :param target_sequence_length: The lengths of each sequence in the target batch\n",
    "    :param max_summary_length: The length of the longest sequence in the batch\n",
    "    :param output_layer: Function to apply the output layer\n",
    "    :param keep_prob: Dropout keep probability\n",
    "    :return: BasicDecoderOutput containing training logits and sample_id\n",
    "    \"\"\"\n",
    "    # TODO: Implement Function\n",
    "    training_helper = tf.contrib.seq2seq.TrainingHelper(inputs=dec_embed_input,\n",
    "                                                            sequence_length=target_sequence_length,\n",
    "                                                            time_major=False)\n",
    "    training_decoder = tf.contrib.seq2seq.BasicDecoder(dec_cell,\n",
    "                                                           training_helper,\n",
    "                                                           encoder_state,\n",
    "                                                           output_layer)\n",
    "    training_decoder_output, _ = tf.contrib.seq2seq.dynamic_decode(training_decoder,\n",
    "                                                                       impute_finished=True,\n",
    "                                                                       maximum_iterations=max_summary_length)\n",
    "    \n",
    "    return training_decoder_output\n",
    "\n",
    "\n",
    "\n",
    "\"\"\"\n",
    "DON'T MODIFY ANYTHING IN THIS CELL THAT IS BELOW THIS LINE\n",
    "\"\"\"\n",
    "tests.test_decoding_layer_train(decoding_layer_train)"
   ]
  },
  {
   "cell_type": "markdown",
   "metadata": {
    "deletable": true,
    "editable": true
   },
   "source": [
    "### Decoding - Inference\n",
    "Create inference decoder:\n",
    "* Create a [`tf.contrib.seq2seq.GreedyEmbeddingHelper`](https://www.tensorflow.org/api_docs/python/tf/contrib/seq2seq/GreedyEmbeddingHelper)\n",
    "* Create a [`tf.contrib.seq2seq.BasicDecoder`](https://www.tensorflow.org/api_docs/python/tf/contrib/seq2seq/BasicDecoder)\n",
    "* Obtain the decoder outputs from [`tf.contrib.seq2seq.dynamic_decode`](https://www.tensorflow.org/api_docs/python/tf/contrib/seq2seq/dynamic_decode)"
   ]
  },
  {
   "cell_type": "code",
   "execution_count": 11,
   "metadata": {
    "collapsed": false,
    "deletable": true,
    "editable": true,
    "scrolled": true
   },
   "outputs": [
    {
     "name": "stdout",
     "output_type": "stream",
     "text": [
      "Tests Passed\n"
     ]
    }
   ],
   "source": [
    "def decoding_layer_infer(encoder_state, dec_cell, dec_embeddings, start_of_sequence_id,\n",
    "                         end_of_sequence_id, max_target_sequence_length,\n",
    "                         vocab_size, output_layer, batch_size, keep_prob):\n",
    "    \"\"\"\n",
    "    Create a decoding layer for inference\n",
    "    :param encoder_state: Encoder state\n",
    "    :param dec_cell: Decoder RNN Cell\n",
    "    :param dec_embeddings: Decoder embeddings\n",
    "    :param start_of_sequence_id: GO ID\n",
    "    :param end_of_sequence_id: EOS Id\n",
    "    :param max_target_sequence_length: Maximum length of target sequences\n",
    "    :param vocab_size: Size of decoder/target vocabulary\n",
    "    :param decoding_scope: TenorFlow Variable Scope for decoding\n",
    "    :param output_layer: Function to apply the output layer\n",
    "    :param batch_size: Batch size\n",
    "    :param keep_prob: Dropout keep probability\n",
    "    :return: BasicDecoderOutput containing inference logits and sample_id\n",
    "    \"\"\"\n",
    "    # TODO: Implement Function\n",
    "    \n",
    "    start_tokens = tf.tile(tf.constant([start_of_sequence_id], dtype=tf.int32), [batch_size], name='start_tokens')\n",
    "    \n",
    "    inference_helper = tf.contrib.seq2seq.GreedyEmbeddingHelper(dec_embeddings,\n",
    "                                                                start_tokens,\n",
    "                                                                end_of_sequence_id)\n",
    "    \n",
    "    inference_decoder = tf.contrib.seq2seq.BasicDecoder(dec_cell,\n",
    "                                                        inference_helper,\n",
    "                                                        encoder_state,\n",
    "                                                        output_layer)\n",
    "    \n",
    "    inference_decoder_output, _ = tf.contrib.seq2seq.dynamic_decode(inference_decoder,\n",
    "                                                            impute_finished=True,\n",
    "                                                            maximum_iterations=max_target_sequence_length)\n",
    "    return inference_decoder_output\n",
    "\n",
    "\n",
    "\n",
    "\"\"\"\n",
    "DON'T MODIFY ANYTHING IN THIS CELL THAT IS BELOW THIS LINE\n",
    "\"\"\"\n",
    "tests.test_decoding_layer_infer(decoding_layer_infer)"
   ]
  },
  {
   "cell_type": "markdown",
   "metadata": {
    "deletable": true,
    "editable": true
   },
   "source": [
    "### Build the Decoding Layer\n",
    "Implement `decoding_layer()` to create a Decoder RNN layer.\n",
    "\n",
    "* Embed the target sequences\n",
    "* Construct the decoder LSTM cell (just like you constructed the encoder cell above)\n",
    "* Create an output layer to map the outputs of the decoder to the elements of our vocabulary\n",
    "* Use the your `decoding_layer_train(encoder_state, dec_cell, dec_embed_input, target_sequence_length, max_target_sequence_length, output_layer, keep_prob)` function to get the training logits.\n",
    "* Use your `decoding_layer_infer(encoder_state, dec_cell, dec_embeddings, start_of_sequence_id, end_of_sequence_id, max_target_sequence_length, vocab_size, output_layer, batch_size, keep_prob)` function to get the inference logits.\n",
    "\n",
    "Note: You'll need to use [tf.variable_scope](https://www.tensorflow.org/api_docs/python/tf/variable_scope) to share variables between training and inference."
   ]
  },
  {
   "cell_type": "code",
   "execution_count": 12,
   "metadata": {
    "collapsed": false,
    "deletable": true,
    "editable": true
   },
   "outputs": [
    {
     "name": "stdout",
     "output_type": "stream",
     "text": [
      "Tests Passed\n"
     ]
    }
   ],
   "source": [
    "def decoding_layer(dec_input, encoder_state,\n",
    "                   target_sequence_length, max_target_sequence_length,\n",
    "                   rnn_size,\n",
    "                   num_layers, target_vocab_to_int, target_vocab_size,\n",
    "                   batch_size, keep_prob, decoding_embedding_size):\n",
    "    \"\"\"\n",
    "    Create decoding layer\n",
    "    :param dec_input: Decoder input\n",
    "    :param encoder_state: Encoder state\n",
    "    :param target_sequence_length: The lengths of each sequence in the target batch\n",
    "    :param max_target_sequence_length: Maximum length of target sequences\n",
    "    :param rnn_size: RNN Size\n",
    "    :param num_layers: Number of layers\n",
    "    :param target_vocab_to_int: Dictionary to go from the target words to an id\n",
    "    :param target_vocab_size: Size of target vocabulary\n",
    "    :param batch_size: The size of the batch\n",
    "    :param keep_prob: Dropout keep probability\n",
    "    :return: Tuple of (Training BasicDecoderOutput, Inference BasicDecoderOutput)\n",
    "    \"\"\"\n",
    "    # TODO: Implement Function\n",
    "    \n",
    "    start_of_sequence_id = target_vocab_to_int['<GO>']\n",
    "    end_of_sequence_id = target_vocab_to_int['<EOS>']\n",
    "    dec_embeddings = tf.Variable(tf.random_uniform([target_vocab_size, decoding_embedding_size]))\n",
    "    dec_embed_input = tf.nn.embedding_lookup(dec_embeddings, dec_input)\n",
    "    \n",
    "    \n",
    "    def make_cell(rnn_size):\n",
    "        dec_cell = tf.contrib.rnn.LSTMCell(rnn_size,\n",
    "                                           initializer=tf.random_uniform_initializer(-0.1, 0.1, seed=2))\n",
    "        return dec_cell\n",
    "\n",
    "    dec_cell = tf.contrib.rnn.MultiRNNCell([make_cell(rnn_size) for _ in range(num_layers)])\n",
    "    \n",
    "    output_layer = Dense(target_vocab_size,\n",
    "                         kernel_initializer = tf.truncated_normal_initializer(mean = 0.0, stddev=0.1))\n",
    "    \n",
    "    with tf.variable_scope(\"decode\"):\n",
    "        \n",
    "        training_decoder_output = decoding_layer_train(encoder_state, dec_cell, dec_embed_input, \n",
    "                         target_sequence_length, max_target_sequence_length, \n",
    "                         output_layer, keep_prob)\n",
    "        \n",
    "    with tf.variable_scope(\"decode\", reuse=True):\n",
    "        \n",
    "        inference_decoder_output = decoding_layer_infer(encoder_state, dec_cell, dec_embeddings, start_of_sequence_id,\n",
    "                         end_of_sequence_id, max_target_sequence_length,\n",
    "                         target_vocab_size, output_layer, batch_size, keep_prob)\n",
    "\n",
    "    return (training_decoder_output, inference_decoder_output)\n",
    "\n",
    "\n",
    "\n",
    "\n",
    "\"\"\"\n",
    "DON'T MODIFY ANYTHING IN THIS CELL THAT IS BELOW THIS LINE\n",
    "\"\"\"\n",
    "tests.test_decoding_layer(decoding_layer)"
   ]
  },
  {
   "cell_type": "markdown",
   "metadata": {
    "deletable": true,
    "editable": true
   },
   "source": [
    "### Build the Neural Network\n",
    "Apply the functions you implemented above to:\n",
    "\n",
    "- Apply embedding to the input data for the encoder.\n",
    "- Encode the input using your `encoding_layer(rnn_inputs, rnn_size, num_layers, keep_prob,  source_sequence_length, source_vocab_size, encoding_embedding_size)`.\n",
    "- Process target data using your `process_decoder_input(target_data, target_vocab_to_int, batch_size)` function.\n",
    "- Apply embedding to the target data for the decoder.\n",
    "- Decode the encoded input using your `decoding_layer(dec_input, enc_state, target_sequence_length, max_target_sentence_length, rnn_size, num_layers, target_vocab_to_int, target_vocab_size, batch_size, keep_prob, dec_embedding_size)` function."
   ]
  },
  {
   "cell_type": "code",
   "execution_count": 13,
   "metadata": {
    "collapsed": false,
    "deletable": true,
    "editable": true
   },
   "outputs": [
    {
     "name": "stdout",
     "output_type": "stream",
     "text": [
      "Tests Passed\n"
     ]
    }
   ],
   "source": [
    "def seq2seq_model(input_data, target_data, keep_prob, batch_size,\n",
    "                  source_sequence_length, target_sequence_length,\n",
    "                  max_target_sentence_length,\n",
    "                  source_vocab_size, target_vocab_size,\n",
    "                  enc_embedding_size, dec_embedding_size,\n",
    "                  rnn_size, num_layers, target_vocab_to_int):\n",
    "    \"\"\"\n",
    "    Build the Sequence-to-Sequence part of the neural network\n",
    "    :param input_data: Input placeholder\n",
    "    :param target_data: Target placeholder\n",
    "    :param keep_prob: Dropout keep probability placeholder\n",
    "    :param batch_size: Batch Size\n",
    "    :param source_sequence_length: Sequence Lengths of source sequences in the batch\n",
    "    :param target_sequence_length: Sequence Lengths of target sequences in the batch\n",
    "    :param source_vocab_size: Source vocabulary size\n",
    "    :param target_vocab_size: Target vocabulary size\n",
    "    :param enc_embedding_size: Decoder embedding size\n",
    "    :param dec_embedding_size: Encoder embedding size\n",
    "    :param rnn_size: RNN Size\n",
    "    :param num_layers: Number of layers\n",
    "    :param target_vocab_to_int: Dictionary to go from the target words to an id\n",
    "    :return: Tuple of (Training BasicDecoderOutput, Inference BasicDecoderOutput)\n",
    "    \"\"\"\n",
    "    # TODO: Implement Function\n",
    "    _, enc_state = encoding_layer(input_data, \n",
    "                                  rnn_size, \n",
    "                                  num_layers, \n",
    "                                  keep_prob,\n",
    "                                  source_sequence_length,\n",
    "                                  source_vocab_size, \n",
    "                                  enc_embedding_size)\n",
    "\n",
    "    \n",
    "    \n",
    "    # Prepare the target sequences we'll feed to the decoder in training mode\n",
    "    dec_input = process_decoder_input(target_data, target_vocab_to_int, batch_size)\n",
    "    \n",
    "    # Pass encoder state and decoder inputs to the decoders\n",
    "    training_decoder_output, inference_decoder_output = decoding_layer(dec_input, \n",
    "                                                                       enc_state,\n",
    "                                                                       target_sequence_length,\n",
    "                                                                       max_target_sentence_length,\n",
    "                                                                       rnn_size,\n",
    "                                                                       num_layers,\n",
    "                                                                       target_vocab_to_int,\n",
    "                                                                       target_vocab_size,\n",
    "                                                                       batch_size,\n",
    "                                                                       keep_prob,\n",
    "                                                                       dec_embedding_size) \n",
    "    \n",
    "    \n",
    "    \n",
    "    return training_decoder_output, inference_decoder_output\n",
    "\n",
    "\n",
    "\"\"\"\n",
    "DON'T MODIFY ANYTHING IN THIS CELL THAT IS BELOW THIS LINE\n",
    "\"\"\"\n",
    "tests.test_seq2seq_model(seq2seq_model)"
   ]
  },
  {
   "cell_type": "markdown",
   "metadata": {
    "deletable": true,
    "editable": true
   },
   "source": [
    "## Neural Network Training\n",
    "### Hyperparameters\n",
    "Tune the following parameters:\n",
    "\n",
    "- Set `epochs` to the number of epochs.\n",
    "- Set `batch_size` to the batch size.\n",
    "- Set `rnn_size` to the size of the RNNs.\n",
    "- Set `num_layers` to the number of layers.\n",
    "- Set `encoding_embedding_size` to the size of the embedding for the encoder.\n",
    "- Set `decoding_embedding_size` to the size of the embedding for the decoder.\n",
    "- Set `learning_rate` to the learning rate.\n",
    "- Set `keep_probability` to the Dropout keep probability\n",
    "- Set `display_step` to state how many steps between each debug output statement"
   ]
  },
  {
   "cell_type": "code",
   "execution_count": 14,
   "metadata": {
    "collapsed": true,
    "deletable": true,
    "editable": true
   },
   "outputs": [],
   "source": [
    "# Number of Epochs\n",
    "epochs = 5\n",
    "# Display every n-th step\n",
    "display_step = 10\n",
    "# Batch Size\n",
    "batch_size = 256\n",
    "# RNN Size\n",
    "rnn_size = 512\n",
    "# Number of Layers\n",
    "num_layers = 2\n",
    "# Embedding Size\n",
    "encoding_embedding_size = 256\n",
    "decoding_embedding_size = 256\n",
    "# Learning Rate\n",
    "learning_rate = 0.001\n",
    "# Dropout Keep Probability\n",
    "keep_probability = 0.5"
   ]
  },
  {
   "cell_type": "markdown",
   "metadata": {
    "deletable": true,
    "editable": true
   },
   "source": [
    "### Build the Graph\n",
    "Build the graph using the neural network you implemented."
   ]
  },
  {
   "cell_type": "code",
   "execution_count": 15,
   "metadata": {
    "collapsed": false,
    "deletable": true,
    "editable": true
   },
   "outputs": [],
   "source": [
    "\"\"\"\n",
    "DON'T MODIFY ANYTHING IN THIS CELL\n",
    "\"\"\"\n",
    "save_path = 'checkpoints/dev'\n",
    "(source_int_text, target_int_text), (source_vocab_to_int, target_vocab_to_int), _ = helper.load_preprocess()\n",
    "max_target_sentence_length = max([len(sentence) for sentence in source_int_text])\n",
    "\n",
    "train_graph = tf.Graph()\n",
    "with train_graph.as_default():\n",
    "    input_data, targets, lr, keep_prob, target_sequence_length, max_target_sequence_length, source_sequence_length = model_inputs()\n",
    "\n",
    "    #sequence_length = tf.placeholder_with_default(max_target_sentence_length, None, name='sequence_length')\n",
    "    input_shape = tf.shape(input_data)\n",
    "\n",
    "    train_logits, inference_logits = seq2seq_model(tf.reverse(input_data, [-1]),\n",
    "                                                   targets,\n",
    "                                                   keep_prob,\n",
    "                                                   batch_size,\n",
    "                                                   source_sequence_length,\n",
    "                                                   target_sequence_length,\n",
    "                                                   max_target_sequence_length,\n",
    "                                                   len(source_vocab_to_int),\n",
    "                                                   len(target_vocab_to_int),\n",
    "                                                   encoding_embedding_size,\n",
    "                                                   decoding_embedding_size,\n",
    "                                                   rnn_size,\n",
    "                                                   num_layers,\n",
    "                                                   target_vocab_to_int)\n",
    "\n",
    "\n",
    "    training_logits = tf.identity(train_logits.rnn_output, name='logits')\n",
    "    inference_logits = tf.identity(inference_logits.sample_id, name='predictions')\n",
    "\n",
    "    masks = tf.sequence_mask(target_sequence_length, max_target_sequence_length, dtype=tf.float32, name='masks')\n",
    "\n",
    "    with tf.name_scope(\"optimization\"):\n",
    "        # Loss function\n",
    "        cost = tf.contrib.seq2seq.sequence_loss(\n",
    "            training_logits,\n",
    "            targets,\n",
    "            masks)\n",
    "\n",
    "        # Optimizer\n",
    "        optimizer = tf.train.AdamOptimizer(lr)\n",
    "\n",
    "        # Gradient Clipping\n",
    "        gradients = optimizer.compute_gradients(cost)\n",
    "        capped_gradients = [(tf.clip_by_value(grad, -1., 1.), var) for grad, var in gradients if grad is not None]\n",
    "        train_op = optimizer.apply_gradients(capped_gradients)\n"
   ]
  },
  {
   "cell_type": "markdown",
   "metadata": {
    "deletable": true,
    "editable": true
   },
   "source": [
    "Batch and pad the source and target sequences"
   ]
  },
  {
   "cell_type": "code",
   "execution_count": 16,
   "metadata": {
    "collapsed": true,
    "deletable": true,
    "editable": true
   },
   "outputs": [],
   "source": [
    "\"\"\"\n",
    "DON'T MODIFY ANYTHING IN THIS CELL\n",
    "\"\"\"\n",
    "def pad_sentence_batch(sentence_batch, pad_int):\n",
    "    \"\"\"Pad sentences with <PAD> so that each sentence of a batch has the same length\"\"\"\n",
    "    max_sentence = max([len(sentence) for sentence in sentence_batch])\n",
    "    return [sentence + [pad_int] * (max_sentence - len(sentence)) for sentence in sentence_batch]\n",
    "\n",
    "\n",
    "def get_batches(sources, targets, batch_size, source_pad_int, target_pad_int):\n",
    "    \"\"\"Batch targets, sources, and the lengths of their sentences together\"\"\"\n",
    "    for batch_i in range(0, len(sources)//batch_size):\n",
    "        start_i = batch_i * batch_size\n",
    "\n",
    "        # Slice the right amount for the batch\n",
    "        sources_batch = sources[start_i:start_i + batch_size]\n",
    "        targets_batch = targets[start_i:start_i + batch_size]\n",
    "\n",
    "        # Pad\n",
    "        pad_sources_batch = np.array(pad_sentence_batch(sources_batch, source_pad_int))\n",
    "        pad_targets_batch = np.array(pad_sentence_batch(targets_batch, target_pad_int))\n",
    "\n",
    "        # Need the lengths for the _lengths parameters\n",
    "        pad_targets_lengths = []\n",
    "        for target in pad_targets_batch:\n",
    "            pad_targets_lengths.append(len(target))\n",
    "\n",
    "        pad_source_lengths = []\n",
    "        for source in pad_sources_batch:\n",
    "            pad_source_lengths.append(len(source))\n",
    "\n",
    "        yield pad_sources_batch, pad_targets_batch, pad_source_lengths, pad_targets_lengths\n"
   ]
  },
  {
   "cell_type": "markdown",
   "metadata": {
    "deletable": true,
    "editable": true
   },
   "source": [
    "### Train\n",
    "Train the neural network on the preprocessed data. If you have a hard time getting a good loss, check the forms to see if anyone is having the same problem."
   ]
  },
  {
   "cell_type": "code",
   "execution_count": 17,
   "metadata": {
    "collapsed": false,
    "deletable": true,
    "editable": true,
    "scrolled": true
   },
   "outputs": [
    {
     "name": "stdout",
     "output_type": "stream",
     "text": [
      "Epoch   0 Batch   10/538 - Train Accuracy: 0.3197, Validation Accuracy: 0.4093, Loss: 3.1454\n",
      "Epoch   0 Batch   20/538 - Train Accuracy: 0.4312, Validation Accuracy: 0.4643, Loss: 2.4542\n",
      "Epoch   0 Batch   30/538 - Train Accuracy: 0.4582, Validation Accuracy: 0.5087, Loss: 2.2332\n",
      "Epoch   0 Batch   40/538 - Train Accuracy: 0.4925, Validation Accuracy: 0.4895, Loss: 1.7500\n",
      "Epoch   0 Batch   50/538 - Train Accuracy: 0.4814, Validation Accuracy: 0.5185, Loss: 1.7447\n",
      "Epoch   0 Batch   60/538 - Train Accuracy: 0.4750, Validation Accuracy: 0.5165, Loss: 1.5496\n",
      "Epoch   0 Batch   70/538 - Train Accuracy: 0.5050, Validation Accuracy: 0.5263, Loss: 1.3663\n",
      "Epoch   0 Batch   80/538 - Train Accuracy: 0.4791, Validation Accuracy: 0.5222, Loss: 1.3383\n",
      "Epoch   0 Batch   90/538 - Train Accuracy: 0.5061, Validation Accuracy: 0.5229, Loss: 1.1929\n",
      "Epoch   0 Batch  100/538 - Train Accuracy: 0.4988, Validation Accuracy: 0.5405, Loss: 1.0796\n",
      "Epoch   0 Batch  110/538 - Train Accuracy: 0.4922, Validation Accuracy: 0.5337, Loss: 1.0369\n",
      "Epoch   0 Batch  120/538 - Train Accuracy: 0.5357, Validation Accuracy: 0.5620, Loss: 0.9143\n",
      "Epoch   0 Batch  130/538 - Train Accuracy: 0.5407, Validation Accuracy: 0.5542, Loss: 0.8337\n",
      "Epoch   0 Batch  140/538 - Train Accuracy: 0.5361, Validation Accuracy: 0.5811, Loss: 0.8827\n",
      "Epoch   0 Batch  150/538 - Train Accuracy: 0.5916, Validation Accuracy: 0.5966, Loss: 0.7876\n",
      "Epoch   0 Batch  160/538 - Train Accuracy: 0.5891, Validation Accuracy: 0.5975, Loss: 0.7059\n",
      "Epoch   0 Batch  170/538 - Train Accuracy: 0.6298, Validation Accuracy: 0.6135, Loss: 0.7371\n",
      "Epoch   0 Batch  180/538 - Train Accuracy: 0.6345, Validation Accuracy: 0.6065, Loss: 0.6688\n",
      "Epoch   0 Batch  190/538 - Train Accuracy: 0.6131, Validation Accuracy: 0.6266, Loss: 0.6608\n",
      "Epoch   0 Batch  200/538 - Train Accuracy: 0.6283, Validation Accuracy: 0.6216, Loss: 0.6126\n",
      "Epoch   0 Batch  210/538 - Train Accuracy: 0.6217, Validation Accuracy: 0.6351, Loss: 0.5869\n",
      "Epoch   0 Batch  220/538 - Train Accuracy: 0.6137, Validation Accuracy: 0.6270, Loss: 0.5661\n",
      "Epoch   0 Batch  230/538 - Train Accuracy: 0.6477, Validation Accuracy: 0.6390, Loss: 0.5622\n",
      "Epoch   0 Batch  240/538 - Train Accuracy: 0.6252, Validation Accuracy: 0.6225, Loss: 0.5459\n",
      "Epoch   0 Batch  250/538 - Train Accuracy: 0.6684, Validation Accuracy: 0.6570, Loss: 0.5031\n",
      "Epoch   0 Batch  260/538 - Train Accuracy: 0.6607, Validation Accuracy: 0.6678, Loss: 0.4809\n",
      "Epoch   0 Batch  270/538 - Train Accuracy: 0.6744, Validation Accuracy: 0.6740, Loss: 0.4729\n",
      "Epoch   0 Batch  280/538 - Train Accuracy: 0.7281, Validation Accuracy: 0.7168, Loss: 0.4167\n",
      "Epoch   0 Batch  290/538 - Train Accuracy: 0.7346, Validation Accuracy: 0.7140, Loss: 0.4047\n",
      "Epoch   0 Batch  300/538 - Train Accuracy: 0.7440, Validation Accuracy: 0.7582, Loss: 0.3814\n",
      "Epoch   0 Batch  310/538 - Train Accuracy: 0.7799, Validation Accuracy: 0.7660, Loss: 0.3651\n",
      "Epoch   0 Batch  320/538 - Train Accuracy: 0.7630, Validation Accuracy: 0.7946, Loss: 0.3302\n",
      "Epoch   0 Batch  330/538 - Train Accuracy: 0.7974, Validation Accuracy: 0.7894, Loss: 0.3011\n",
      "Epoch   0 Batch  340/538 - Train Accuracy: 0.8008, Validation Accuracy: 0.8050, Loss: 0.2891\n",
      "Epoch   0 Batch  350/538 - Train Accuracy: 0.7984, Validation Accuracy: 0.8123, Loss: 0.2861\n",
      "Epoch   0 Batch  360/538 - Train Accuracy: 0.8137, Validation Accuracy: 0.8146, Loss: 0.2529\n",
      "Epoch   0 Batch  370/538 - Train Accuracy: 0.8172, Validation Accuracy: 0.8306, Loss: 0.2368\n",
      "Epoch   0 Batch  380/538 - Train Accuracy: 0.8611, Validation Accuracy: 0.8423, Loss: 0.2001\n",
      "Epoch   0 Batch  390/538 - Train Accuracy: 0.8744, Validation Accuracy: 0.8397, Loss: 0.1753\n",
      "Epoch   0 Batch  400/538 - Train Accuracy: 0.8612, Validation Accuracy: 0.8423, Loss: 0.1861\n",
      "Epoch   0 Batch  410/538 - Train Accuracy: 0.8920, Validation Accuracy: 0.8319, Loss: 0.1774\n",
      "Epoch   0 Batch  420/538 - Train Accuracy: 0.9047, Validation Accuracy: 0.8750, Loss: 0.1478\n",
      "Epoch   0 Batch  430/538 - Train Accuracy: 0.9012, Validation Accuracy: 0.8746, Loss: 0.1298\n",
      "Epoch   0 Batch  440/538 - Train Accuracy: 0.8766, Validation Accuracy: 0.8876, Loss: 0.1521\n",
      "Epoch   0 Batch  450/538 - Train Accuracy: 0.8778, Validation Accuracy: 0.8839, Loss: 0.1445\n",
      "Epoch   0 Batch  460/538 - Train Accuracy: 0.8845, Validation Accuracy: 0.8890, Loss: 0.1255\n",
      "Epoch   0 Batch  470/538 - Train Accuracy: 0.9029, Validation Accuracy: 0.8817, Loss: 0.1018\n",
      "Epoch   0 Batch  480/538 - Train Accuracy: 0.9252, Validation Accuracy: 0.8846, Loss: 0.1011\n",
      "Epoch   0 Batch  490/538 - Train Accuracy: 0.8956, Validation Accuracy: 0.8910, Loss: 0.0957\n",
      "Epoch   0 Batch  500/538 - Train Accuracy: 0.9412, Validation Accuracy: 0.9018, Loss: 0.0765\n",
      "Epoch   0 Batch  510/538 - Train Accuracy: 0.9228, Validation Accuracy: 0.9016, Loss: 0.0812\n",
      "Epoch   0 Batch  520/538 - Train Accuracy: 0.9131, Validation Accuracy: 0.8894, Loss: 0.0863\n",
      "Epoch   0 Batch  530/538 - Train Accuracy: 0.8979, Validation Accuracy: 0.9075, Loss: 0.0947\n",
      "Epoch   1 Batch   10/538 - Train Accuracy: 0.9283, Validation Accuracy: 0.8887, Loss: 0.0790\n",
      "Epoch   1 Batch   20/538 - Train Accuracy: 0.9191, Validation Accuracy: 0.9268, Loss: 0.0731\n",
      "Epoch   1 Batch   30/538 - Train Accuracy: 0.9240, Validation Accuracy: 0.9043, Loss: 0.0791\n",
      "Epoch   1 Batch   40/538 - Train Accuracy: 0.9350, Validation Accuracy: 0.9254, Loss: 0.0544\n",
      "Epoch   1 Batch   50/538 - Train Accuracy: 0.9277, Validation Accuracy: 0.9187, Loss: 0.0647\n",
      "Epoch   1 Batch   60/538 - Train Accuracy: 0.9266, Validation Accuracy: 0.9164, Loss: 0.0650\n",
      "Epoch   1 Batch   70/538 - Train Accuracy: 0.9129, Validation Accuracy: 0.9146, Loss: 0.0637\n",
      "Epoch   1 Batch   80/538 - Train Accuracy: 0.9355, Validation Accuracy: 0.9254, Loss: 0.0614\n",
      "Epoch   1 Batch   90/538 - Train Accuracy: 0.9243, Validation Accuracy: 0.9366, Loss: 0.0656\n",
      "Epoch   1 Batch  100/538 - Train Accuracy: 0.9451, Validation Accuracy: 0.9167, Loss: 0.0545\n",
      "Epoch   1 Batch  110/538 - Train Accuracy: 0.9346, Validation Accuracy: 0.9355, Loss: 0.0558\n",
      "Epoch   1 Batch  120/538 - Train Accuracy: 0.9523, Validation Accuracy: 0.9300, Loss: 0.0424\n",
      "Epoch   1 Batch  130/538 - Train Accuracy: 0.9362, Validation Accuracy: 0.9247, Loss: 0.0492\n",
      "Epoch   1 Batch  140/538 - Train Accuracy: 0.9311, Validation Accuracy: 0.9309, Loss: 0.0648\n",
      "Epoch   1 Batch  150/538 - Train Accuracy: 0.9441, Validation Accuracy: 0.9384, Loss: 0.0447\n",
      "Epoch   1 Batch  160/538 - Train Accuracy: 0.9250, Validation Accuracy: 0.9316, Loss: 0.0451\n",
      "Epoch   1 Batch  170/538 - Train Accuracy: 0.9280, Validation Accuracy: 0.9315, Loss: 0.0535\n",
      "Epoch   1 Batch  180/538 - Train Accuracy: 0.9483, Validation Accuracy: 0.9320, Loss: 0.0490\n",
      "Epoch   1 Batch  190/538 - Train Accuracy: 0.9433, Validation Accuracy: 0.9377, Loss: 0.0599\n",
      "Epoch   1 Batch  200/538 - Train Accuracy: 0.9604, Validation Accuracy: 0.9439, Loss: 0.0372\n",
      "Epoch   1 Batch  210/538 - Train Accuracy: 0.9323, Validation Accuracy: 0.9366, Loss: 0.0478\n",
      "Epoch   1 Batch  220/538 - Train Accuracy: 0.9360, Validation Accuracy: 0.9446, Loss: 0.0454\n",
      "Epoch   1 Batch  230/538 - Train Accuracy: 0.9477, Validation Accuracy: 0.9414, Loss: 0.0420\n",
      "Epoch   1 Batch  240/538 - Train Accuracy: 0.9437, Validation Accuracy: 0.9363, Loss: 0.0458\n",
      "Epoch   1 Batch  250/538 - Train Accuracy: 0.9443, Validation Accuracy: 0.9402, Loss: 0.0426\n",
      "Epoch   1 Batch  260/538 - Train Accuracy: 0.9252, Validation Accuracy: 0.9432, Loss: 0.0445\n",
      "Epoch   1 Batch  270/538 - Train Accuracy: 0.9492, Validation Accuracy: 0.9403, Loss: 0.0339\n",
      "Epoch   1 Batch  280/538 - Train Accuracy: 0.9593, Validation Accuracy: 0.9492, Loss: 0.0335\n",
      "Epoch   1 Batch  290/538 - Train Accuracy: 0.9662, Validation Accuracy: 0.9524, Loss: 0.0348\n",
      "Epoch   1 Batch  300/538 - Train Accuracy: 0.9477, Validation Accuracy: 0.9387, Loss: 0.0392\n",
      "Epoch   1 Batch  310/538 - Train Accuracy: 0.9578, Validation Accuracy: 0.9545, Loss: 0.0443\n",
      "Epoch   1 Batch  320/538 - Train Accuracy: 0.9589, Validation Accuracy: 0.9599, Loss: 0.0335\n",
      "Epoch   1 Batch  330/538 - Train Accuracy: 0.9630, Validation Accuracy: 0.9457, Loss: 0.0347\n",
      "Epoch   1 Batch  340/538 - Train Accuracy: 0.9439, Validation Accuracy: 0.9554, Loss: 0.0371\n",
      "Epoch   1 Batch  350/538 - Train Accuracy: 0.9546, Validation Accuracy: 0.9396, Loss: 0.0422\n",
      "Epoch   1 Batch  360/538 - Train Accuracy: 0.9420, Validation Accuracy: 0.9574, Loss: 0.0318\n",
      "Epoch   1 Batch  370/538 - Train Accuracy: 0.9662, Validation Accuracy: 0.9386, Loss: 0.0347\n",
      "Epoch   1 Batch  380/538 - Train Accuracy: 0.9590, Validation Accuracy: 0.9499, Loss: 0.0296\n",
      "Epoch   1 Batch  390/538 - Train Accuracy: 0.9457, Validation Accuracy: 0.9496, Loss: 0.0302\n",
      "Epoch   1 Batch  400/538 - Train Accuracy: 0.9570, Validation Accuracy: 0.9466, Loss: 0.0332\n",
      "Epoch   1 Batch  410/538 - Train Accuracy: 0.9598, Validation Accuracy: 0.9467, Loss: 0.0362\n",
      "Epoch   1 Batch  420/538 - Train Accuracy: 0.9586, Validation Accuracy: 0.9526, Loss: 0.0318\n",
      "Epoch   1 Batch  430/538 - Train Accuracy: 0.9586, Validation Accuracy: 0.9355, Loss: 0.0306\n",
      "Epoch   1 Batch  440/538 - Train Accuracy: 0.9660, Validation Accuracy: 0.9414, Loss: 0.0315\n",
      "Epoch   1 Batch  450/538 - Train Accuracy: 0.9416, Validation Accuracy: 0.9576, Loss: 0.0421\n",
      "Epoch   1 Batch  460/538 - Train Accuracy: 0.9362, Validation Accuracy: 0.9634, Loss: 0.0350\n",
      "Epoch   1 Batch  470/538 - Train Accuracy: 0.9613, Validation Accuracy: 0.9513, Loss: 0.0289\n",
      "Epoch   1 Batch  480/538 - Train Accuracy: 0.9626, Validation Accuracy: 0.9421, Loss: 0.0248\n",
      "Epoch   1 Batch  490/538 - Train Accuracy: 0.9544, Validation Accuracy: 0.9576, Loss: 0.0268\n",
      "Epoch   1 Batch  500/538 - Train Accuracy: 0.9716, Validation Accuracy: 0.9451, Loss: 0.0207\n",
      "Epoch   1 Batch  510/538 - Train Accuracy: 0.9769, Validation Accuracy: 0.9538, Loss: 0.0241\n",
      "Epoch   1 Batch  520/538 - Train Accuracy: 0.9602, Validation Accuracy: 0.9462, Loss: 0.0280\n",
      "Epoch   1 Batch  530/538 - Train Accuracy: 0.9539, Validation Accuracy: 0.9616, Loss: 0.0314\n",
      "Epoch   2 Batch   10/538 - Train Accuracy: 0.9604, Validation Accuracy: 0.9636, Loss: 0.0278\n",
      "Epoch   2 Batch   20/538 - Train Accuracy: 0.9773, Validation Accuracy: 0.9494, Loss: 0.0293\n",
      "Epoch   2 Batch   30/538 - Train Accuracy: 0.9578, Validation Accuracy: 0.9496, Loss: 0.0305\n",
      "Epoch   2 Batch   40/538 - Train Accuracy: 0.9640, Validation Accuracy: 0.9590, Loss: 0.0197\n",
      "Epoch   2 Batch   50/538 - Train Accuracy: 0.9703, Validation Accuracy: 0.9485, Loss: 0.0224\n",
      "Epoch   2 Batch   60/538 - Train Accuracy: 0.9719, Validation Accuracy: 0.9620, Loss: 0.0282\n",
      "Epoch   2 Batch   70/538 - Train Accuracy: 0.9567, Validation Accuracy: 0.9627, Loss: 0.0249\n",
      "Epoch   2 Batch   80/538 - Train Accuracy: 0.9713, Validation Accuracy: 0.9526, Loss: 0.0225\n",
      "Epoch   2 Batch   90/538 - Train Accuracy: 0.9689, Validation Accuracy: 0.9696, Loss: 0.0248\n",
      "Epoch   2 Batch  100/538 - Train Accuracy: 0.9715, Validation Accuracy: 0.9650, Loss: 0.0209\n",
      "Epoch   2 Batch  110/538 - Train Accuracy: 0.9811, Validation Accuracy: 0.9583, Loss: 0.0238\n",
      "Epoch   2 Batch  120/538 - Train Accuracy: 0.9703, Validation Accuracy: 0.9622, Loss: 0.0176\n",
      "Epoch   2 Batch  130/538 - Train Accuracy: 0.9706, Validation Accuracy: 0.9519, Loss: 0.0247\n",
      "Epoch   2 Batch  140/538 - Train Accuracy: 0.9705, Validation Accuracy: 0.9618, Loss: 0.0310\n",
      "Epoch   2 Batch  150/538 - Train Accuracy: 0.9719, Validation Accuracy: 0.9503, Loss: 0.0222\n",
      "Epoch   2 Batch  160/538 - Train Accuracy: 0.9632, Validation Accuracy: 0.9616, Loss: 0.0224\n",
      "Epoch   2 Batch  170/538 - Train Accuracy: 0.9539, Validation Accuracy: 0.9535, Loss: 0.0270\n",
      "Epoch   2 Batch  180/538 - Train Accuracy: 0.9654, Validation Accuracy: 0.9625, Loss: 0.0244\n",
      "Epoch   2 Batch  190/538 - Train Accuracy: 0.9673, Validation Accuracy: 0.9529, Loss: 0.0286\n",
      "Epoch   2 Batch  200/538 - Train Accuracy: 0.9699, Validation Accuracy: 0.9737, Loss: 0.0173\n",
      "Epoch   2 Batch  210/538 - Train Accuracy: 0.9581, Validation Accuracy: 0.9572, Loss: 0.0234\n",
      "Epoch   2 Batch  220/538 - Train Accuracy: 0.9550, Validation Accuracy: 0.9618, Loss: 0.0263\n",
      "Epoch   2 Batch  230/538 - Train Accuracy: 0.9768, Validation Accuracy: 0.9588, Loss: 0.0182\n",
      "Epoch   2 Batch  240/538 - Train Accuracy: 0.9693, Validation Accuracy: 0.9629, Loss: 0.0229\n",
      "Epoch   2 Batch  250/538 - Train Accuracy: 0.9615, Validation Accuracy: 0.9537, Loss: 0.0219\n",
      "Epoch   2 Batch  260/538 - Train Accuracy: 0.9507, Validation Accuracy: 0.9613, Loss: 0.0235\n",
      "Epoch   2 Batch  270/538 - Train Accuracy: 0.9682, Validation Accuracy: 0.9654, Loss: 0.0181\n",
      "Epoch   2 Batch  280/538 - Train Accuracy: 0.9784, Validation Accuracy: 0.9631, Loss: 0.0177\n",
      "Epoch   2 Batch  290/538 - Train Accuracy: 0.9801, Validation Accuracy: 0.9680, Loss: 0.0168\n",
      "Epoch   2 Batch  300/538 - Train Accuracy: 0.9613, Validation Accuracy: 0.9535, Loss: 0.0211\n",
      "Epoch   2 Batch  310/538 - Train Accuracy: 0.9695, Validation Accuracy: 0.9698, Loss: 0.0266\n",
      "Epoch   2 Batch  320/538 - Train Accuracy: 0.9728, Validation Accuracy: 0.9693, Loss: 0.0174\n",
      "Epoch   2 Batch  330/538 - Train Accuracy: 0.9836, Validation Accuracy: 0.9569, Loss: 0.0196\n",
      "Epoch   2 Batch  340/538 - Train Accuracy: 0.9771, Validation Accuracy: 0.9597, Loss: 0.0185\n",
      "Epoch   2 Batch  350/538 - Train Accuracy: 0.9697, Validation Accuracy: 0.9585, Loss: 0.0235\n",
      "Epoch   2 Batch  360/538 - Train Accuracy: 0.9658, Validation Accuracy: 0.9531, Loss: 0.0174\n",
      "Epoch   2 Batch  370/538 - Train Accuracy: 0.9682, Validation Accuracy: 0.9652, Loss: 0.0204\n",
      "Epoch   2 Batch  380/538 - Train Accuracy: 0.9705, Validation Accuracy: 0.9629, Loss: 0.0148\n",
      "Epoch   2 Batch  390/538 - Train Accuracy: 0.9699, Validation Accuracy: 0.9512, Loss: 0.0166\n",
      "Epoch   2 Batch  400/538 - Train Accuracy: 0.9730, Validation Accuracy: 0.9647, Loss: 0.0202\n",
      "Epoch   2 Batch  410/538 - Train Accuracy: 0.9850, Validation Accuracy: 0.9641, Loss: 0.0203\n",
      "Epoch   2 Batch  420/538 - Train Accuracy: 0.9768, Validation Accuracy: 0.9636, Loss: 0.0239\n",
      "Epoch   2 Batch  430/538 - Train Accuracy: 0.9695, Validation Accuracy: 0.9577, Loss: 0.0190\n",
      "Epoch   2 Batch  440/538 - Train Accuracy: 0.9762, Validation Accuracy: 0.9663, Loss: 0.0199\n",
      "Epoch   2 Batch  450/538 - Train Accuracy: 0.9539, Validation Accuracy: 0.9695, Loss: 0.0266\n",
      "Epoch   2 Batch  460/538 - Train Accuracy: 0.9563, Validation Accuracy: 0.9542, Loss: 0.0222\n",
      "Epoch   2 Batch  470/538 - Train Accuracy: 0.9671, Validation Accuracy: 0.9538, Loss: 0.0196\n",
      "Epoch   2 Batch  480/538 - Train Accuracy: 0.9831, Validation Accuracy: 0.9535, Loss: 0.0152\n",
      "Epoch   2 Batch  490/538 - Train Accuracy: 0.9734, Validation Accuracy: 0.9524, Loss: 0.0173\n",
      "Epoch   2 Batch  500/538 - Train Accuracy: 0.9821, Validation Accuracy: 0.9464, Loss: 0.0130\n",
      "Epoch   2 Batch  510/538 - Train Accuracy: 0.9859, Validation Accuracy: 0.9466, Loss: 0.0159\n",
      "Epoch   2 Batch  520/538 - Train Accuracy: 0.9758, Validation Accuracy: 0.9668, Loss: 0.0187\n",
      "Epoch   2 Batch  530/538 - Train Accuracy: 0.9746, Validation Accuracy: 0.9723, Loss: 0.0191\n",
      "Epoch   3 Batch   10/538 - Train Accuracy: 0.9725, Validation Accuracy: 0.9680, Loss: 0.0180\n",
      "Epoch   3 Batch   20/538 - Train Accuracy: 0.9851, Validation Accuracy: 0.9679, Loss: 0.0189\n",
      "Epoch   3 Batch   30/538 - Train Accuracy: 0.9775, Validation Accuracy: 0.9666, Loss: 0.0174\n",
      "Epoch   3 Batch   40/538 - Train Accuracy: 0.9801, Validation Accuracy: 0.9680, Loss: 0.0140\n",
      "Epoch   3 Batch   50/538 - Train Accuracy: 0.9758, Validation Accuracy: 0.9650, Loss: 0.0159\n",
      "Epoch   3 Batch   60/538 - Train Accuracy: 0.9820, Validation Accuracy: 0.9698, Loss: 0.0198\n",
      "Epoch   3 Batch   70/538 - Train Accuracy: 0.9866, Validation Accuracy: 0.9659, Loss: 0.0124\n",
      "Epoch   3 Batch   80/538 - Train Accuracy: 0.9820, Validation Accuracy: 0.9677, Loss: 0.0142\n",
      "Epoch   3 Batch   90/538 - Train Accuracy: 0.9801, Validation Accuracy: 0.9748, Loss: 0.0163\n",
      "Epoch   3 Batch  100/538 - Train Accuracy: 0.9895, Validation Accuracy: 0.9741, Loss: 0.0126\n",
      "Epoch   3 Batch  110/538 - Train Accuracy: 0.9842, Validation Accuracy: 0.9735, Loss: 0.0148\n",
      "Epoch   3 Batch  120/538 - Train Accuracy: 0.9756, Validation Accuracy: 0.9830, Loss: 0.0116\n",
      "Epoch   3 Batch  130/538 - Train Accuracy: 0.9784, Validation Accuracy: 0.9673, Loss: 0.0160\n",
      "Epoch   3 Batch  140/538 - Train Accuracy: 0.9848, Validation Accuracy: 0.9714, Loss: 0.0202\n",
      "Epoch   3 Batch  150/538 - Train Accuracy: 0.9760, Validation Accuracy: 0.9494, Loss: 0.0151\n",
      "Epoch   3 Batch  160/538 - Train Accuracy: 0.9812, Validation Accuracy: 0.9560, Loss: 0.0153\n",
      "Epoch   3 Batch  170/538 - Train Accuracy: 0.9751, Validation Accuracy: 0.9585, Loss: 0.0183\n",
      "Epoch   3 Batch  180/538 - Train Accuracy: 0.9753, Validation Accuracy: 0.9629, Loss: 0.0174\n",
      "Epoch   3 Batch  190/538 - Train Accuracy: 0.9786, Validation Accuracy: 0.9719, Loss: 0.0225\n",
      "Epoch   3 Batch  200/538 - Train Accuracy: 0.9689, Validation Accuracy: 0.9702, Loss: 0.0154\n",
      "Epoch   3 Batch  210/538 - Train Accuracy: 0.9890, Validation Accuracy: 0.9767, Loss: 0.0163\n",
      "Epoch   3 Batch  220/538 - Train Accuracy: 0.9680, Validation Accuracy: 0.9739, Loss: 0.0197\n",
      "Epoch   3 Batch  230/538 - Train Accuracy: 0.9826, Validation Accuracy: 0.9727, Loss: 0.0128\n",
      "Epoch   3 Batch  240/538 - Train Accuracy: 0.9750, Validation Accuracy: 0.9743, Loss: 0.0183\n",
      "Epoch   3 Batch  250/538 - Train Accuracy: 0.9840, Validation Accuracy: 0.9632, Loss: 0.0155\n",
      "Epoch   3 Batch  260/538 - Train Accuracy: 0.9667, Validation Accuracy: 0.9625, Loss: 0.0168\n",
      "Epoch   3 Batch  270/538 - Train Accuracy: 0.9848, Validation Accuracy: 0.9567, Loss: 0.0141\n",
      "Epoch   3 Batch  280/538 - Train Accuracy: 0.9864, Validation Accuracy: 0.9682, Loss: 0.0142\n",
      "Epoch   3 Batch  290/538 - Train Accuracy: 0.9830, Validation Accuracy: 0.9737, Loss: 0.0140\n",
      "Epoch   3 Batch  300/538 - Train Accuracy: 0.9728, Validation Accuracy: 0.9751, Loss: 0.0151\n",
      "Epoch   3 Batch  310/538 - Train Accuracy: 0.9906, Validation Accuracy: 0.9727, Loss: 0.0192\n",
      "Epoch   3 Batch  320/538 - Train Accuracy: 0.9840, Validation Accuracy: 0.9705, Loss: 0.0128\n",
      "Epoch   3 Batch  330/538 - Train Accuracy: 0.9849, Validation Accuracy: 0.9666, Loss: 0.0143\n",
      "Epoch   3 Batch  340/538 - Train Accuracy: 0.9906, Validation Accuracy: 0.9707, Loss: 0.0140\n",
      "Epoch   3 Batch  350/538 - Train Accuracy: 0.9732, Validation Accuracy: 0.9703, Loss: 0.0191\n",
      "Epoch   3 Batch  360/538 - Train Accuracy: 0.9873, Validation Accuracy: 0.9684, Loss: 0.0103\n",
      "Epoch   3 Batch  370/538 - Train Accuracy: 0.9812, Validation Accuracy: 0.9682, Loss: 0.0140\n",
      "Epoch   3 Batch  380/538 - Train Accuracy: 0.9791, Validation Accuracy: 0.9659, Loss: 0.0123\n",
      "Epoch   3 Batch  390/538 - Train Accuracy: 0.9812, Validation Accuracy: 0.9622, Loss: 0.0126\n",
      "Epoch   3 Batch  400/538 - Train Accuracy: 0.9833, Validation Accuracy: 0.9647, Loss: 0.0138\n",
      "Epoch   3 Batch  410/538 - Train Accuracy: 0.9893, Validation Accuracy: 0.9689, Loss: 0.0137\n",
      "Epoch   3 Batch  420/538 - Train Accuracy: 0.9760, Validation Accuracy: 0.9748, Loss: 0.0166\n",
      "Epoch   3 Batch  430/538 - Train Accuracy: 0.9809, Validation Accuracy: 0.9595, Loss: 0.0135\n",
      "Epoch   3 Batch  440/538 - Train Accuracy: 0.9791, Validation Accuracy: 0.9670, Loss: 0.0159\n",
      "Epoch   3 Batch  450/538 - Train Accuracy: 0.9650, Validation Accuracy: 0.9689, Loss: 0.0195\n",
      "Epoch   3 Batch  460/538 - Train Accuracy: 0.9669, Validation Accuracy: 0.9709, Loss: 0.0156\n",
      "Epoch   3 Batch  470/538 - Train Accuracy: 0.9734, Validation Accuracy: 0.9659, Loss: 0.0153\n",
      "Epoch   3 Batch  480/538 - Train Accuracy: 0.9885, Validation Accuracy: 0.9593, Loss: 0.0103\n",
      "Epoch   3 Batch  490/538 - Train Accuracy: 0.9779, Validation Accuracy: 0.9700, Loss: 0.0125\n",
      "Epoch   3 Batch  500/538 - Train Accuracy: 0.9918, Validation Accuracy: 0.9657, Loss: 0.0090\n",
      "Epoch   3 Batch  510/538 - Train Accuracy: 0.9870, Validation Accuracy: 0.9730, Loss: 0.0107\n",
      "Epoch   3 Batch  520/538 - Train Accuracy: 0.9848, Validation Accuracy: 0.9782, Loss: 0.0146\n",
      "Epoch   3 Batch  530/538 - Train Accuracy: 0.9896, Validation Accuracy: 0.9739, Loss: 0.0130\n",
      "Epoch   4 Batch   10/538 - Train Accuracy: 0.9805, Validation Accuracy: 0.9666, Loss: 0.0124\n",
      "Epoch   4 Batch   20/538 - Train Accuracy: 0.9823, Validation Accuracy: 0.9691, Loss: 0.0150\n",
      "Epoch   4 Batch   30/538 - Train Accuracy: 0.9818, Validation Accuracy: 0.9798, Loss: 0.0123\n",
      "Epoch   4 Batch   40/538 - Train Accuracy: 0.9846, Validation Accuracy: 0.9677, Loss: 0.0103\n",
      "Epoch   4 Batch   50/538 - Train Accuracy: 0.9852, Validation Accuracy: 0.9714, Loss: 0.0104\n",
      "Epoch   4 Batch   60/538 - Train Accuracy: 0.9906, Validation Accuracy: 0.9780, Loss: 0.0132\n",
      "Epoch   4 Batch   70/538 - Train Accuracy: 0.9927, Validation Accuracy: 0.9764, Loss: 0.0088\n",
      "Epoch   4 Batch   80/538 - Train Accuracy: 0.9895, Validation Accuracy: 0.9799, Loss: 0.0105\n",
      "Epoch   4 Batch   90/538 - Train Accuracy: 0.9868, Validation Accuracy: 0.9842, Loss: 0.0120\n",
      "Epoch   4 Batch  100/538 - Train Accuracy: 0.9906, Validation Accuracy: 0.9789, Loss: 0.0089\n",
      "Epoch   4 Batch  110/538 - Train Accuracy: 0.9869, Validation Accuracy: 0.9645, Loss: 0.0114\n",
      "Epoch   4 Batch  120/538 - Train Accuracy: 0.9838, Validation Accuracy: 0.9672, Loss: 0.0089\n",
      "Epoch   4 Batch  130/538 - Train Accuracy: 0.9849, Validation Accuracy: 0.9771, Loss: 0.0137\n",
      "Epoch   4 Batch  140/538 - Train Accuracy: 0.9824, Validation Accuracy: 0.9716, Loss: 0.0151\n",
      "Epoch   4 Batch  150/538 - Train Accuracy: 0.9850, Validation Accuracy: 0.9698, Loss: 0.0108\n",
      "Epoch   4 Batch  160/538 - Train Accuracy: 0.9779, Validation Accuracy: 0.9599, Loss: 0.0101\n",
      "Epoch   4 Batch  170/538 - Train Accuracy: 0.9784, Validation Accuracy: 0.9663, Loss: 0.0142\n",
      "Epoch   4 Batch  180/538 - Train Accuracy: 0.9805, Validation Accuracy: 0.9659, Loss: 0.0127\n",
      "Epoch   4 Batch  190/538 - Train Accuracy: 0.9812, Validation Accuracy: 0.9750, Loss: 0.0171\n",
      "Epoch   4 Batch  200/538 - Train Accuracy: 0.9859, Validation Accuracy: 0.9767, Loss: 0.0088\n",
      "Epoch   4 Batch  210/538 - Train Accuracy: 0.9859, Validation Accuracy: 0.9783, Loss: 0.0112\n",
      "Epoch   4 Batch  220/538 - Train Accuracy: 0.9879, Validation Accuracy: 0.9783, Loss: 0.0135\n",
      "Epoch   4 Batch  230/538 - Train Accuracy: 0.9846, Validation Accuracy: 0.9737, Loss: 0.0113\n",
      "Epoch   4 Batch  240/538 - Train Accuracy: 0.9848, Validation Accuracy: 0.9709, Loss: 0.0118\n",
      "Epoch   4 Batch  250/538 - Train Accuracy: 0.9879, Validation Accuracy: 0.9732, Loss: 0.0111\n",
      "Epoch   4 Batch  260/538 - Train Accuracy: 0.9838, Validation Accuracy: 0.9707, Loss: 0.0105\n",
      "Epoch   4 Batch  270/538 - Train Accuracy: 0.9898, Validation Accuracy: 0.9711, Loss: 0.0091\n",
      "Epoch   4 Batch  280/538 - Train Accuracy: 0.9952, Validation Accuracy: 0.9624, Loss: 0.0094\n",
      "Epoch   4 Batch  290/538 - Train Accuracy: 0.9920, Validation Accuracy: 0.9654, Loss: 0.0110\n",
      "Epoch   4 Batch  300/538 - Train Accuracy: 0.9875, Validation Accuracy: 0.9790, Loss: 0.0118\n",
      "Epoch   4 Batch  310/538 - Train Accuracy: 0.9947, Validation Accuracy: 0.9661, Loss: 0.0129\n",
      "Epoch   4 Batch  320/538 - Train Accuracy: 0.9901, Validation Accuracy: 0.9719, Loss: 0.0078\n",
      "Epoch   4 Batch  330/538 - Train Accuracy: 0.9818, Validation Accuracy: 0.9618, Loss: 0.0125\n",
      "Epoch   4 Batch  340/538 - Train Accuracy: 0.9811, Validation Accuracy: 0.9641, Loss: 0.0108\n",
      "Epoch   4 Batch  350/538 - Train Accuracy: 0.9834, Validation Accuracy: 0.9663, Loss: 0.0151\n",
      "Epoch   4 Batch  360/538 - Train Accuracy: 0.9938, Validation Accuracy: 0.9608, Loss: 0.0069\n",
      "Epoch   4 Batch  370/538 - Train Accuracy: 0.9855, Validation Accuracy: 0.9663, Loss: 0.0111\n",
      "Epoch   4 Batch  380/538 - Train Accuracy: 0.9895, Validation Accuracy: 0.9666, Loss: 0.0086\n",
      "Epoch   4 Batch  390/538 - Train Accuracy: 0.9877, Validation Accuracy: 0.9666, Loss: 0.0076\n",
      "Epoch   4 Batch  400/538 - Train Accuracy: 0.9829, Validation Accuracy: 0.9712, Loss: 0.0111\n",
      "Epoch   4 Batch  410/538 - Train Accuracy: 0.9865, Validation Accuracy: 0.9702, Loss: 0.0107\n",
      "Epoch   4 Batch  420/538 - Train Accuracy: 0.9727, Validation Accuracy: 0.9739, Loss: 0.0159\n",
      "Epoch   4 Batch  430/538 - Train Accuracy: 0.9906, Validation Accuracy: 0.9750, Loss: 0.0100\n",
      "Epoch   4 Batch  440/538 - Train Accuracy: 0.9807, Validation Accuracy: 0.9707, Loss: 0.0108\n",
      "Epoch   4 Batch  450/538 - Train Accuracy: 0.9730, Validation Accuracy: 0.9695, Loss: 0.0146\n",
      "Epoch   4 Batch  460/538 - Train Accuracy: 0.9795, Validation Accuracy: 0.9664, Loss: 0.0121\n",
      "Epoch   4 Batch  470/538 - Train Accuracy: 0.9820, Validation Accuracy: 0.9679, Loss: 0.0142\n",
      "Epoch   4 Batch  480/538 - Train Accuracy: 0.9929, Validation Accuracy: 0.9624, Loss: 0.0083\n",
      "Epoch   4 Batch  490/538 - Train Accuracy: 0.9890, Validation Accuracy: 0.9696, Loss: 0.0106\n",
      "Epoch   4 Batch  500/538 - Train Accuracy: 0.9922, Validation Accuracy: 0.9663, Loss: 0.0060\n",
      "Epoch   4 Batch  510/538 - Train Accuracy: 0.9957, Validation Accuracy: 0.9723, Loss: 0.0081\n",
      "Epoch   4 Batch  520/538 - Train Accuracy: 0.9855, Validation Accuracy: 0.9654, Loss: 0.0117\n",
      "Epoch   4 Batch  530/538 - Train Accuracy: 0.9844, Validation Accuracy: 0.9727, Loss: 0.0110\n",
      "Model Trained and Saved\n"
     ]
    }
   ],
   "source": [
    "\"\"\"\n",
    "DON'T MODIFY ANYTHING IN THIS CELL\n",
    "\"\"\"\n",
    "def get_accuracy(target, logits):\n",
    "    \"\"\"\n",
    "    Calculate accuracy\n",
    "    \"\"\"\n",
    "    max_seq = max(target.shape[1], logits.shape[1])\n",
    "    if max_seq - target.shape[1]:\n",
    "        target = np.pad(\n",
    "            target,\n",
    "            [(0,0),(0,max_seq - target.shape[1])],\n",
    "            'constant')\n",
    "    if max_seq - logits.shape[1]:\n",
    "        logits = np.pad(\n",
    "            logits,\n",
    "            [(0,0),(0,max_seq - logits.shape[1])],\n",
    "            'constant')\n",
    "\n",
    "    return np.mean(np.equal(target, logits))\n",
    "\n",
    "# Split data to training and validation sets\n",
    "train_source = source_int_text[batch_size:]\n",
    "train_target = target_int_text[batch_size:]\n",
    "valid_source = source_int_text[:batch_size]\n",
    "valid_target = target_int_text[:batch_size]\n",
    "(valid_sources_batch, valid_targets_batch, valid_sources_lengths, valid_targets_lengths ) = next(get_batches(valid_source,\n",
    "                                                                                                             valid_target,\n",
    "                                                                                                             batch_size,\n",
    "                                                                                                             source_vocab_to_int['<PAD>'],\n",
    "                                                                                                             target_vocab_to_int['<PAD>']))                                                                                                  \n",
    "with tf.Session(graph=train_graph) as sess:\n",
    "    sess.run(tf.global_variables_initializer())\n",
    "\n",
    "    for epoch_i in range(epochs):\n",
    "        for batch_i, (source_batch, target_batch, sources_lengths, targets_lengths) in enumerate(\n",
    "                get_batches(train_source, train_target, batch_size,\n",
    "                            source_vocab_to_int['<PAD>'],\n",
    "                            target_vocab_to_int['<PAD>'])):\n",
    "\n",
    "            _, loss = sess.run(\n",
    "                [train_op, cost],\n",
    "                {input_data: source_batch,\n",
    "                 targets: target_batch,\n",
    "                 lr: learning_rate,\n",
    "                 target_sequence_length: targets_lengths,\n",
    "                 source_sequence_length: sources_lengths,\n",
    "                 keep_prob: keep_probability})\n",
    "\n",
    "\n",
    "            if batch_i % display_step == 0 and batch_i > 0:\n",
    "\n",
    "\n",
    "                batch_train_logits = sess.run(\n",
    "                    inference_logits,\n",
    "                    {input_data: source_batch,\n",
    "                     source_sequence_length: sources_lengths,\n",
    "                     target_sequence_length: targets_lengths,\n",
    "                     keep_prob: 1.0})\n",
    "\n",
    "\n",
    "                batch_valid_logits = sess.run(\n",
    "                    inference_logits,\n",
    "                    {input_data: valid_sources_batch,\n",
    "                     source_sequence_length: valid_sources_lengths,\n",
    "                     target_sequence_length: valid_targets_lengths,\n",
    "                     keep_prob: 1.0})\n",
    "\n",
    "                train_acc = get_accuracy(target_batch, batch_train_logits)\n",
    "\n",
    "                valid_acc = get_accuracy(valid_targets_batch, batch_valid_logits)\n",
    "\n",
    "                print('Epoch {:>3} Batch {:>4}/{} - Train Accuracy: {:>6.4f}, Validation Accuracy: {:>6.4f}, Loss: {:>6.4f}'\n",
    "                      .format(epoch_i, batch_i, len(source_int_text) // batch_size, train_acc, valid_acc, loss))\n",
    "\n",
    "    # Save Model\n",
    "    saver = tf.train.Saver()\n",
    "    saver.save(sess, save_path)\n",
    "    print('Model Trained and Saved')"
   ]
  },
  {
   "cell_type": "markdown",
   "metadata": {
    "deletable": true,
    "editable": true
   },
   "source": [
    "### Save Parameters\n",
    "Save the `batch_size` and `save_path` parameters for inference."
   ]
  },
  {
   "cell_type": "code",
   "execution_count": 18,
   "metadata": {
    "collapsed": true,
    "deletable": true,
    "editable": true
   },
   "outputs": [],
   "source": [
    "\"\"\"\n",
    "DON'T MODIFY ANYTHING IN THIS CELL\n",
    "\"\"\"\n",
    "# Save parameters for checkpoint\n",
    "helper.save_params(save_path)"
   ]
  },
  {
   "cell_type": "markdown",
   "metadata": {
    "deletable": true,
    "editable": true
   },
   "source": [
    "# Checkpoint"
   ]
  },
  {
   "cell_type": "code",
   "execution_count": 19,
   "metadata": {
    "collapsed": true,
    "deletable": true,
    "editable": true
   },
   "outputs": [],
   "source": [
    "\"\"\"\n",
    "DON'T MODIFY ANYTHING IN THIS CELL\n",
    "\"\"\"\n",
    "import tensorflow as tf\n",
    "import numpy as np\n",
    "import helper\n",
    "import problem_unittests as tests\n",
    "\n",
    "_, (source_vocab_to_int, target_vocab_to_int), (source_int_to_vocab, target_int_to_vocab) = helper.load_preprocess()\n",
    "load_path = helper.load_params()"
   ]
  },
  {
   "cell_type": "markdown",
   "metadata": {
    "deletable": true,
    "editable": true
   },
   "source": [
    "## Sentence to Sequence\n",
    "To feed a sentence into the model for translation, you first need to preprocess it.  Implement the function `sentence_to_seq()` to preprocess new sentences.\n",
    "\n",
    "- Convert the sentence to lowercase\n",
    "- Convert words into ids using `vocab_to_int`\n",
    " - Convert words not in the vocabulary, to the `<UNK>` word id."
   ]
  },
  {
   "cell_type": "code",
   "execution_count": 20,
   "metadata": {
    "collapsed": false,
    "deletable": true,
    "editable": true
   },
   "outputs": [
    {
     "name": "stdout",
     "output_type": "stream",
     "text": [
      "Tests Passed\n"
     ]
    }
   ],
   "source": [
    "def sentence_to_seq(sentence, vocab_to_int):\n",
    "    \"\"\"\n",
    "    Convert a sentence to a sequence of ids\n",
    "    :param sentence: String\n",
    "    :param vocab_to_int: Dictionary to go from the words to an id\n",
    "    :return: List of word ids\n",
    "    \"\"\"\n",
    "    # TODO: Implement Function\n",
    "    s = sentence.lower()\n",
    "    default = vocab_to_int[\"<UNK>\"]\n",
    "    word_ids = [vocab_to_int.get(word, default) for word in s.split()]\n",
    "    return word_ids\n",
    "\n",
    "\n",
    "\"\"\"\n",
    "DON'T MODIFY ANYTHING IN THIS CELL THAT IS BELOW THIS LINE\n",
    "\"\"\"\n",
    "tests.test_sentence_to_seq(sentence_to_seq)"
   ]
  },
  {
   "cell_type": "markdown",
   "metadata": {
    "deletable": true,
    "editable": true
   },
   "source": [
    "## Translate\n",
    "This will translate `translate_sentence` from English to French."
   ]
  },
  {
   "cell_type": "code",
   "execution_count": 23,
   "metadata": {
    "collapsed": false,
    "deletable": true,
    "editable": true
   },
   "outputs": [
    {
     "name": "stdout",
     "output_type": "stream",
     "text": [
      "INFO:tensorflow:Restoring parameters from checkpoints/dev\n",
      "Input\n",
      "  Word Ids:      [69, 13, 15, 216, 28, 107]\n",
      "  English Words: ['california', 'is', 'never', 'busy', 'during', 'february']\n",
      "\n",
      "Prediction\n",
      "  Word Ids:      [132, 86, 85, 36, 218, 35, 229, 206, 86, 1]\n",
      "  French Words: californie est occupé en février , et il est <EOS>\n"
     ]
    }
   ],
   "source": [
    "#translate_sentence = 'he saw a old yellow truck .'\n",
    "translate_sentence = 'california is never busy during february'\n",
    "\n",
    "\n",
    "\n",
    "\"\"\"\n",
    "DON'T MODIFY ANYTHING IN THIS CELL\n",
    "\"\"\"\n",
    "translate_sentence = sentence_to_seq(translate_sentence, source_vocab_to_int)\n",
    "\n",
    "loaded_graph = tf.Graph()\n",
    "with tf.Session(graph=loaded_graph) as sess:\n",
    "    # Load saved model\n",
    "    loader = tf.train.import_meta_graph(load_path + '.meta')\n",
    "    loader.restore(sess, load_path)\n",
    "\n",
    "    input_data = loaded_graph.get_tensor_by_name('input:0')\n",
    "    logits = loaded_graph.get_tensor_by_name('predictions:0')\n",
    "    target_sequence_length = loaded_graph.get_tensor_by_name('target_sequence_length:0')\n",
    "    source_sequence_length = loaded_graph.get_tensor_by_name('source_sequence_length:0')\n",
    "    keep_prob = loaded_graph.get_tensor_by_name('keep_prob:0')\n",
    "\n",
    "    translate_logits = sess.run(logits, {input_data: [translate_sentence]*batch_size,\n",
    "                                         target_sequence_length: [len(translate_sentence)*2]*batch_size,\n",
    "                                         source_sequence_length: [len(translate_sentence)]*batch_size,\n",
    "                                         keep_prob: 1.0})[0]\n",
    "\n",
    "print('Input')\n",
    "print('  Word Ids:      {}'.format([i for i in translate_sentence]))\n",
    "print('  English Words: {}'.format([source_int_to_vocab[i] for i in translate_sentence]))\n",
    "\n",
    "print('\\nPrediction')\n",
    "print('  Word Ids:      {}'.format([i for i in translate_logits]))\n",
    "print('  French Words: {}'.format(\" \".join([target_int_to_vocab[i] for i in translate_logits])))\n"
   ]
  },
  {
   "cell_type": "markdown",
   "metadata": {
    "deletable": true,
    "editable": true
   },
   "source": [
    "## Imperfect Translation\n",
    "You might notice that some sentences translate better than others.  Since the dataset you're using only has a vocabulary of 227 English words of the thousands that you use, you're only going to see good results using these words.  For this project, you don't need a perfect translation. However, if you want to create a better translation model, you'll need better data.\n",
    "\n",
    "You can train on the [WMT10 French-English corpus](http://www.statmt.org/wmt10/training-giga-fren.tar).  This dataset has more vocabulary and richer in topics discussed.  However, this will take you days to train, so make sure you've a GPU and the neural network is performing well on dataset we provided.  Just make sure you play with the WMT10 corpus after you've submitted this project.\n",
    "## Submitting This Project\n",
    "When submitting this project, make sure to run all the cells before saving the notebook. Save the notebook file as \"dlnd_language_translation.ipynb\" and save it as a HTML file under \"File\" -> \"Download as\". Include the \"helper.py\" and \"problem_unittests.py\" files in your submission."
   ]
  },
  {
   "cell_type": "code",
   "execution_count": null,
   "metadata": {
    "collapsed": true,
    "deletable": true,
    "editable": true
   },
   "outputs": [],
   "source": []
  }
 ],
 "metadata": {
  "anaconda-cloud": {},
  "kernelspec": {
   "display_name": "Python 3",
   "language": "python",
   "name": "python3"
  },
  "language_info": {
   "codemirror_mode": {
    "name": "ipython",
    "version": 3
   },
   "file_extension": ".py",
   "mimetype": "text/x-python",
   "name": "python",
   "nbconvert_exporter": "python",
   "pygments_lexer": "ipython3",
   "version": "3.5.2"
  },
  "widgets": {
   "state": {},
   "version": "1.1.2"
  }
 },
 "nbformat": 4,
 "nbformat_minor": 1
}
